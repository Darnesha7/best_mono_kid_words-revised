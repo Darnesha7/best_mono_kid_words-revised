{
 "cells": [
  {
   "cell_type": "code",
   "execution_count": 1,
   "metadata": {},
   "outputs": [],
   "source": [
    "import numpy\n",
    "import pandas as pd\n",
    "\n",
    "mono1 = pd.read_csv (\"words/3k.csv\", header = None, names = [\"word\"])\n",
    "mono2 = pd.read_csv (\"words/lcnl.csv\")\n",
    "mono3 = pd.read_excel (\"words/unl.xlsx\")"
   ]
  },
  {
   "cell_type": "code",
   "execution_count": 2,
   "metadata": {},
   "outputs": [],
   "source": [
    "cdi = pd.read_excel (\"words/WordList_CDI_WS_Wordbank.xlsx\")\n",
    "cdi = cdi[cdi[\"monosyllabic\"] ==\"yes\"]\n",
    "cdi = cdi.rename(columns = {\" cdiwords\": \"word\"})\n",
    "mono4 = cdi[['word']]"
   ]
  },
  {
   "cell_type": "code",
   "execution_count": 3,
   "metadata": {},
   "outputs": [
    {
     "name": "stdout",
     "output_type": "stream",
     "text": [
      "             word\n",
      "lcnl 1486   FALSE\n",
      "cdi  334        I\n",
      "lcnl 5614    TRUE\n",
      "     0          a\n",
      "unl  660       ab\n",
      "     2062     abe\n",
      "3k   1373     ace\n",
      "     2081    ache\n",
      "lcnl 3      ached\n",
      "     4      aches\n",
      "3k   2342     act\n",
      "lcnl 6       acts\n",
      "     7         ad\n",
      "3k   2710     add\n",
      "lcnl 9       adds\n",
      "3k   2711     ade\n",
      "lcnl 11       ads\n",
      "unl  93       adz\n",
      "     388     adze\n",
      "3k   2334     aft\n",
      "     2168     age\n",
      "unl  2130    aged\n",
      "lcnl 14      ages\n",
      "unl  1058      ah\n",
      "     1055     ahs\n",
      "3k   495      aid\n",
      "     231     aide\n",
      "lcnl 17     aides\n",
      "     18      aids\n",
      "3k   490      ail\n",
      "...           ...\n",
      "unl  3206    zees\n",
      "     2273    zell\n",
      "3k   186      zen\n",
      "     1366    zest\n",
      "lcnl 6155   zests\n",
      "unl  3614    zeus\n",
      "     3821   zilch\n",
      "3k   1489    zinc\n",
      "lcnl 6157   zincs\n",
      "3k   38      zing\n",
      "unl  4643  zinged\n",
      "lcnl 6159   zings\n",
      "3k   2380     zip\n",
      "lcnl 6161  zipped\n",
      "     6162    zips\n",
      "3k   1368     zit\n",
      "lcnl 6164    zits\n",
      "3k   747     zone\n",
      "unl  7004   zoned\n",
      "lcnl 6166   zones\n",
      "unl  5257    zonk\n",
      "     5246  zonked\n",
      "3k   1095     zoo\n",
      "lcnl 6168    zoom\n",
      "     6169  zoomed\n",
      "     6170   zooms\n",
      "     6171    zoos\n",
      "unl  6074    zoot\n",
      "3k   334   zounds\n",
      "     1787     NaN\n",
      "\n",
      "[8627 rows x 1 columns]\n"
     ]
    }
   ],
   "source": [
    "monoAll = pd.concat ([mono1,mono2,mono3,mono4], keys = [\"3k\",\"lcnl\",\"unl\",\"cdi\"] )\n",
    "mono = monoAll.drop_duplicates ()\n",
    "monoSort = mono.sort_values (\"word\")\n",
    "print (monoSort)\n",
    "monoSort.to_csv (\"words/monoSort.csv\")"
   ]
  },
  {
   "cell_type": "code",
   "execution_count": 4,
   "metadata": {},
   "outputs": [
    {
     "name": "stderr",
     "output_type": "stream",
     "text": [
      "C:\\Users\\Darnesha\\Anaconda3\\lib\\site-packages\\pandas\\core\\indexing.py:1472: PerformanceWarning: indexing past lexsort depth may impact performance.\n",
      "  return self._getitem_tuple(key)\n"
     ]
    },
    {
     "data": {
      "text/plain": [
       "(12, 1)"
      ]
     },
     "execution_count": 4,
     "metadata": {},
     "output_type": "execute_result"
    }
   ],
   "source": [
    "monoSort.loc[('cdi',),:].shape"
   ]
  }
 ],
 "metadata": {
  "kernelspec": {
   "display_name": "Python 3",
   "language": "python",
   "name": "python3"
  },
  "language_info": {
   "codemirror_mode": {
    "name": "ipython",
    "version": 3
   },
   "file_extension": ".py",
   "mimetype": "text/x-python",
   "name": "python",
   "nbconvert_exporter": "python",
   "pygments_lexer": "ipython3",
   "version": "3.7.1"
  }
 },
 "nbformat": 4,
 "nbformat_minor": 2
}
